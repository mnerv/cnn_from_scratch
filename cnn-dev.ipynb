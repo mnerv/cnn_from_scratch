{
 "cells": [
  {
   "cell_type": "markdown",
   "metadata": {
    "jp-MarkdownHeadingCollapsed": true,
    "tags": []
   },
   "source": [
    "# Convolutional Neural Network\n",
    "\n",
    "**Conv Layer**\n",
    "\n",
    "  - Accepts a volume of size $W_1 \\times H_1 \\times D_q$\n",
    "  - Requires four hyperparameters:\n",
    "    - Number of filters $K$,\n",
    "    - their spatial extent $F$,\n",
    "    - the stride $S$,\n",
    "    - the amount of zero padding $P$\n",
    "  - Produce a volume of size $W_2 \\times H_2 \\times D_2$\n",
    "    - $W_2 = (W_1 - F + 2 P) / S + 1$\n",
    "    - $H_2 = (H_1 - F + 2 P) / S + 1$ (i.e width and height are computed equally by symmetry)\n",
    "    - $D_2 = K$\n",
    "  - With parameter sharing, it introduces $F \\cdot F \\cdot D_1$ weights per filter, for a total of $(F \\cdot F \\cdot D_1) \\cdot K$ weights and $K$ biases.\n",
    "  - In the output of volume, the $d$-th depth slice (of size $W_2 \\times H_2$) is the result of performing a valid convolution of the $d$-th filter over the input volume with a stride of $S$, and then offset by $d$-th bias.\n",
    "\n",
    "See lecture [CS231n Winter 2016: Lecture 7: Convolutional Neural Networks](https://youtu.be/LxfUGhug-iQ)"
   ]
  },
  {
   "cell_type": "markdown",
   "metadata": {},
   "source": [
    "**Common Settings**\n",
    "\n",
    "K = (powers of 2, e.g. 32, 64, 128, 512)\n",
    "  - F = 3, S = 1, P = 1\n",
    "  - F = 5, S = 1, P = 2,\n",
    "  - F = 5, S = 2, P = ? (whatever fits)\n",
    "  - F = 1, S = 1, P = 0"
   ]
  },
  {
   "cell_type": "markdown",
   "metadata": {
    "tags": []
   },
   "source": [
    "## SpatialConvolution\n",
    "\n",
    "Example: CONV layer in Torch\n",
    "\n",
    "```python\n",
    "module = nn.SpatialConvolution(nInputPlane, nOutputPlane, kW, kH, [dW], [dH], [padW], [padH])\n",
    "```"
   ]
  },
  {
   "cell_type": "markdown",
   "metadata": {},
   "source": [
    "## ReLU Layer"
   ]
  },
  {
   "cell_type": "markdown",
   "metadata": {},
   "source": [
    "## Pooling Layer"
   ]
  },
  {
   "cell_type": "markdown",
   "metadata": {
    "tags": []
   },
   "source": [
    "## Fully Connected Layer (FC)"
   ]
  },
  {
   "cell_type": "markdown",
   "metadata": {},
   "source": [
    "# Prepare data"
   ]
  },
  {
   "cell_type": "code",
   "execution_count": 1,
   "metadata": {},
   "outputs": [],
   "source": [
    "import torch\n",
    "from torch import nn\n",
    "from torch.nn import functional as F\n",
    "from torchvision import datasets\n",
    "import torchvision.transforms as transforms\n",
    "import matplotlib.pyplot as plt"
   ]
  },
  {
   "cell_type": "code",
   "execution_count": 2,
   "metadata": {},
   "outputs": [],
   "source": [
    "# Hyperparameters\n",
    "batch_size = 32\n",
    "num_epochs = 10\n",
    "learning_rate = 1e-3\n",
    "device = 'cuda' if torch.cuda.is_available() else 'cpu'\n",
    "dropout = 0.25\n",
    "seed = 1337"
   ]
  },
  {
   "cell_type": "code",
   "execution_count": 3,
   "metadata": {},
   "outputs": [],
   "source": [
    "# Download and load the MNIST dataset for numbers\n",
    "transform = transforms.Compose([\n",
    "    transforms.ToTensor(),\n",
    "    transforms.Normalize((0.1307,), (0.3081,))\n",
    "])\n",
    "\n",
    "# Download dataset for training and test\n",
    "train_set = datasets.MNIST(root='./data', train=True, download=True, transform=transform)\n",
    "test_set  = datasets.MNIST(root='./data', train=False, download=True, transform=transform)\n",
    "\n",
    "# Convert to loader\n",
    "train_loader = torch.utils.data.DataLoader(train_set, batch_size=batch_size, shuffle=True, num_workers=2)\n",
    "test_loader  = torch.utils.data.DataLoader(test_set, batch_size=batch_size, shuffle=False, num_workers=2);"
   ]
  },
  {
   "cell_type": "markdown",
   "metadata": {},
   "source": [
    "# Sample data"
   ]
  },
  {
   "cell_type": "code",
   "execution_count": 4,
   "metadata": {},
   "outputs": [
    {
     "data": {
      "image/png": "[encoded data removed]",
      "text/plain": [
       "<Figure size 1200x500 with 10 Axes>"
      ]
     },
     "metadata": {},
     "output_type": "display_data"
    }
   ],
   "source": [
    "fig, axis = plt.subplots(2, 5, figsize=(12, 5))\n",
    "fig.suptitle('MNIST Sample Data')\n",
    "\n",
    "torch.manual_seed(seed)\n",
    "indices = torch.randint(len(train_set), size=(10,))\n",
    "for i, index in enumerate(indices):\n",
    "    image, label = train_set[index]\n",
    "    \n",
    "    image = image.squeeze().numpy()\n",
    "    axis[i // 5, i % 5].imshow(image, cmap='gray')\n",
    "    axis[i // 5, i % 5].set_title(f'Label: {label}')\n",
    "    axis[i // 5, i % 5].axis('off')"
   ]
  },
  {
   "cell_type": "code",
   "execution_count": 5,
   "metadata": {},
   "outputs": [
    {
     "data": {
      "text/plain": [
       "torch.Size([1, 28, 28])"
      ]
     },
     "execution_count": 5,
     "metadata": {},
     "output_type": "execute_result"
    }
   ],
   "source": [
    "train_set[0][0].shape"
   ]
  },
  {
   "cell_type": "markdown",
   "metadata": {},
   "source": [
    "# CNN Model"
   ]
  },
  {
   "cell_type": "code",
   "execution_count": 6,
   "metadata": {},
   "outputs": [],
   "source": [
    "class CNNModel(nn.Module):\n",
    "    def __init__(self):\n",
    "        super().__init__()\n",
    "        self.conv1 = nn.Conv2d(1, 32, kernel_size=3, padding=1)\n",
    "        self.conv2 = nn.Conv2d(32, 64, kernel_size=3, padding=1)\n",
    "        # Regulation technique used to prevent overfitting.\n",
    "        # Basic idea set some neuron activity to zero.\n",
    "        self.dropout = nn.Dropout(0.25)  # 25 percent change of dropout\n",
    "        # Fully connected\n",
    "        self.fc1 = nn.Linear(64 * 7 * 7, 128)  # 64 output size of conv2, 7 is from the number after two max pooling.\n",
    "        self.fc2 = nn.Linear(128, 10)          # Output layer\n",
    "\n",
    "    def forward(self, x):\n",
    "        \"\"\" 2 Convolutional Layer and 2 Fully connected layer \"\"\"\n",
    "        x = F.relu(self.conv1(x))  # convolution then relu\n",
    "        x = F.max_pool2d(x, 2)\n",
    "        x = F.relu(self.conv2(x))\n",
    "        x = F.max_pool2d(x, 2)\n",
    "        x = self.dropout(x)\n",
    "        x = torch.flatten(x, 1)    # convert tensor to 1 dimensional shape\n",
    "        x = F.relu(self.fc1(x))\n",
    "        x = self.fc2(x)\n",
    "        return x"
   ]
  },
  {
   "cell_type": "markdown",
   "metadata": {},
   "source": [
    "# Training"
   ]
  },
  {
   "cell_type": "code",
   "execution_count": 7,
   "metadata": {},
   "outputs": [],
   "source": [
    "# Instance of the Model\n",
    "model = CNNModel().to(device)"
   ]
  },
  {
   "cell_type": "code",
   "execution_count": 8,
   "metadata": {},
   "outputs": [
    {
     "name": "stdout",
     "output_type": "stream",
     "text": [
      "Epoch [1/10], Loss: 2.790E-03\n",
      "Epoch [2/10], Loss: 6.625E-02\n",
      "Epoch [3/10], Loss: 1.084E-02\n",
      "Epoch [4/10], Loss: 3.315E-03\n",
      "Epoch [5/10], Loss: 7.103E-03\n",
      "Epoch [6/10], Loss: 1.468E-02\n",
      "Epoch [7/10], Loss: 1.198E-04\n",
      "Epoch [8/10], Loss: 1.293E-03\n",
      "Epoch [9/10], Loss: 3.207E-05\n",
      "Epoch [10/10], Loss: 1.046E-02\n"
     ]
    }
   ],
   "source": [
    "# Loss function and optimizer\n",
    "criterion = nn.CrossEntropyLoss()\n",
    "optimizer = torch.optim.Adam(model.parameters(), lr=learning_rate)\n",
    "\n",
    "# Train the model on MNIST dataset\n",
    "for epoch in range(num_epochs):\n",
    "    model.train()\n",
    "    for images, labels in train_loader:\n",
    "        # Move data to GPU if available\n",
    "        images, labels = images.to(device), labels.to(device)\n",
    "        \n",
    "        # Forward pass\n",
    "        outputs = model(images)\n",
    "        loss = criterion(outputs, labels)\n",
    "        \n",
    "        # Backward and optimize\n",
    "        optimizer.zero_grad()\n",
    "        loss.backward()\n",
    "        optimizer.step()\n",
    "        \n",
    "    # Print training progress\n",
    "    print('Epoch [{}/{}], Loss: {:.3E}'.format(epoch+1, num_epochs, loss.item()))"
   ]
  },
  {
   "cell_type": "code",
   "execution_count": 9,
   "metadata": {},
   "outputs": [],
   "source": [
    "torch.save(model.state_dict(), 'model.pth')"
   ]
  },
  {
   "cell_type": "markdown",
   "metadata": {},
   "source": [
    "Save trained model\n",
    "\n",
    "```python\n",
    "torch.save(model.state_dict(), 'model.pth')\n",
    "```"
   ]
  },
  {
   "cell_type": "markdown",
   "metadata": {},
   "source": [
    "Load model\n",
    "\n",
    "```python\n",
    "model = CNNModel()\n",
    "model.load_state_dict(torch.load('model.pth'))\n",
    "```"
   ]
  },
  {
   "cell_type": "markdown",
   "metadata": {},
   "source": [
    "# Testing"
   ]
  },
  {
   "cell_type": "code",
   "execution_count": 10,
   "metadata": {},
   "outputs": [
    {
     "name": "stdout",
     "output_type": "stream",
     "text": [
      "Test Accuracy: 99.28%\n"
     ]
    }
   ],
   "source": [
    "model = CNNModel()\n",
    "model.load_state_dict(torch.load('model.pth'))\n",
    "\n",
    "def model_accuracy(model, data_loader):\n",
    "    correct = 0\n",
    "    total = 0\n",
    "    with torch.no_grad():\n",
    "        for images, labels in data_loader:\n",
    "            # Move data to GPU if available\n",
    "            images, labels = images.to(device), labels.to(device)\n",
    "            \n",
    "            # Forward pass\n",
    "            outputs = model(images)\n",
    "            \n",
    "            # Get predictions from the maximum value\n",
    "            _, predicted = torch.max(outputs.data, 1)\n",
    "            \n",
    "            # Update counts\n",
    "            total += labels.size(0)\n",
    "            correct += (predicted == labels).sum().item()\n",
    "    return 100 * correct / total\n",
    "\n",
    "model = model.to(device)\n",
    "model.eval()\n",
    "# Calculate accuracyt on the test set\n",
    "test_accuracy = model_accuracy(model, test_loader)\n",
    "print('Test Accuracy: {:.2f}%'.format(test_accuracy))"
   ]
  },
  {
   "cell_type": "markdown",
   "metadata": {},
   "source": [
    "# Convert to ONNX"
   ]
  },
  {
   "cell_type": "code",
   "execution_count": 11,
   "metadata": {},
   "outputs": [],
   "source": [
    "import torch.onnx\n",
    "\n",
    "model = CNNModel()\n",
    "model.load_state_dict(torch.load('model.pth'))\n",
    "\n",
    "model.eval()\n",
    "dummy_input = torch.randn(1, 1, 28, 28, requires_grad=True)\n",
    "\n",
    "torch.onnx.export(model,\n",
    "                  dummy_input,\n",
    "                  'model.onnx',\n",
    "                  export_params=True,\n",
    "                  opset_version=10,\n",
    "                  do_constant_folding=True,\n",
    "                  input_names=['input'],\n",
    "                  output_names=['output'],\n",
    "                  dynamic_axes={\n",
    "                      'input': { 0 : 'batch_size' },\n",
    "                      'output': { 0 : 'batch_size' }\n",
    "                  }\n",
    "                 )"
   ]
  },
  {
   "cell_type": "markdown",
   "metadata": {},
   "source": [
    "# Load ONNX"
   ]
  },
  {
   "cell_type": "code",
   "execution_count": 12,
   "metadata": {},
   "outputs": [],
   "source": [
    "# import torch.onnx\n",
    "\n",
    "# onnx_model = torch.onnx.load('model.onnx')\n",
    "# pytorch_model = torch.nn.Sequenctial()\n",
    "# for onnx_layer in onnx_model.graph.node:\n",
    "#     pytorch_layer = conver"
   ]
  }
 ],
 "metadata": {
  "kernelspec": {
   "display_name": "Python 3 (ipykernel)",
   "language": "python",
   "name": "python3"
  },
  "language_info": {
   "codemirror_mode": {
    "name": "ipython",
    "version": 3
   },
   "file_extension": ".py",
   "mimetype": "text/x-python",
   "name": "python",
   "nbconvert_exporter": "python",
   "pygments_lexer": "ipython3",
   "version": "3.9.16"
  },
  "vscode": {
   "interpreter": {
    "hash": "932cd1a6db061336a750e5d731cc89f3deccfbf009afc5f629cf69e60978efd0"
   }
  }
 },
 "nbformat": 4,
 "nbformat_minor": 4
}
