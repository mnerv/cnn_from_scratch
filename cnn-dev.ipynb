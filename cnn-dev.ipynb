{
 "cells": [
  {
   "attachments": {},
   "cell_type": "markdown",
   "metadata": {},
   "source": [
    "# Convolution Neural Network\n",
    "\n",
    "Cross-Correlation and Convolution.\n",
    "\n",
    "$$\n",
    "conv(I, K) = I \\star rot180(K)\n",
    "$$\n",
    "\n",
    "Convolution\n",
    "\n",
    "$$\n",
    "I * K = I \\star rot180(K)\n",
    "$$\n",
    "\n",
    "$*$ is convolution and $\\star$ is cross-correlation"
   ]
  },
  {
   "cell_type": "code",
   "execution_count": 1,
   "metadata": {},
   "outputs": [
    {
     "name": "stdout",
     "output_type": "stream",
     "text": [
      "Hello, World!\n"
     ]
    }
   ],
   "source": [
    "print(\"Hello, World!\")"
   ]
  },
  {
   "attachments": {},
   "cell_type": "markdown",
   "metadata": {},
   "source": [
    "## Convolutional layer\n",
    "\n",
    "Forward propagation\n",
    "\n",
    "$$\n",
    "Y_i = B_i + \\sum_{j = 1}^{n} X_j \\star K_{ij},\\quad i = 1...d\n",
    "$$"
   ]
  },
  {
   "cell_type": "code",
   "execution_count": null,
   "metadata": {},
   "outputs": [],
   "source": []
  }
 ],
 "metadata": {
  "kernelspec": {
   "display_name": "ml",
   "language": "python",
   "name": "python3"
  },
  "language_info": {
   "codemirror_mode": {
    "name": "ipython",
    "version": 3
   },
   "file_extension": ".py",
   "mimetype": "text/x-python",
   "name": "python",
   "nbconvert_exporter": "python",
   "pygments_lexer": "ipython3",
   "version": "3.9.16"
  },
  "orig_nbformat": 4,
  "vscode": {
   "interpreter": {
    "hash": "932cd1a6db061336a750e5d731cc89f3deccfbf009afc5f629cf69e60978efd0"
   }
  }
 },
 "nbformat": 4,
 "nbformat_minor": 2
}
